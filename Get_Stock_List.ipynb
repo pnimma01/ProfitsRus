{
 "cells": [
  {
   "cell_type": "code",
   "execution_count": 1,
   "id": "241bcce0",
   "metadata": {},
   "outputs": [],
   "source": [
    "import pandas as pd\n",
    "from pandas_datareader import data as pdr\n",
    "import datetime as dt"
   ]
  },
  {
   "cell_type": "code",
   "execution_count": 6,
   "id": "356ba1cf",
   "metadata": {},
   "outputs": [],
   "source": [
    "#you can use different start date\n",
    "start = dt.datetime(2022,5,15)\n",
    "now = dt.datetime.now()"
   ]
  },
  {
   "cell_type": "code",
   "execution_count": 8,
   "id": "49bb5bd8",
   "metadata": {},
   "outputs": [],
   "source": [
    "stock_list = []\n",
    "symb_list1=['AAPL']\n",
    "#,'MSFT','TSLA','GM','GOOG']"
   ]
  },
  {
   "cell_type": "code",
   "execution_count": 9,
   "id": "55899eaf",
   "metadata": {},
   "outputs": [
    {
     "name": "stdout",
     "output_type": "stream",
     "text": [
      "AAPL\n"
     ]
    }
   ],
   "source": [
    "for i in range(len(symb_list1)):\n",
    " try:\n",
    "     print(symb_list1[i])\n",
    "     df = pdr.get_data_yahoo(symb_list1[i], start,now)\n",
    "     df['Symbol'] = symb_list1[i]\n",
    "     stock_list.append(df)\n",
    " \n",
    " except Exception as e:\n",
    "     print('Error')\n",
    "     time.sleep(60*3) "
   ]
  },
  {
   "cell_type": "code",
   "execution_count": 10,
   "id": "f557fc42",
   "metadata": {},
   "outputs": [
    {
     "data": {
      "text/plain": [
       "[                  High         Low        Open       Close    Volume  \\\n",
       " Date                                                                   \n",
       " 2022-05-16  147.520004  144.179993  145.550003  145.539993  86541200   \n",
       " 2022-05-17  149.330002  147.289993  148.860001  147.465607  14707656   \n",
       " \n",
       "              Adj Close Symbol  \n",
       " Date                           \n",
       " 2022-05-16  145.539993   AAPL  \n",
       " 2022-05-17  147.465607   AAPL  ]"
      ]
     },
     "execution_count": 10,
     "metadata": {},
     "output_type": "execute_result"
    }
   ],
   "source": [
    "stock_list"
   ]
  },
  {
   "cell_type": "code",
   "execution_count": 12,
   "id": "afd8ceb6",
   "metadata": {},
   "outputs": [],
   "source": [
    "import pandas as pd\n",
    "from yahoo_fin import stock_info as si"
   ]
  },
  {
   "cell_type": "code",
   "execution_count": 17,
   "id": "42ff6a5e",
   "metadata": {},
   "outputs": [],
   "source": [
    "Dow_df = pd.DataFrame( si.tickers_dow() )"
   ]
  },
  {
   "cell_type": "code",
   "execution_count": 18,
   "id": "2e802db3",
   "metadata": {},
   "outputs": [],
   "source": [
    "sym = set( symbol for symbol in Dow_df[0].values.tolist() )"
   ]
  },
  {
   "cell_type": "code",
   "execution_count": 32,
   "id": "8e6f142d",
   "metadata": {},
   "outputs": [
    {
     "name": "stdout",
     "output_type": "stream",
     "text": [
      "{'AAPL', 'CAT', 'KO', 'MRK', 'AXP', 'JNJ', 'MMM', 'IBM', 'MSFT', 'CVX', 'CSCO', 'WMT', 'INTC', 'UNH', 'WBA', 'DOW', 'NKE', 'BA', 'AMGN', 'CRM', 'PG', 'V', 'VZ', 'DIS', 'HD', 'HON', 'TRV', 'MCD', 'JPM', 'GS'}\n"
     ]
    }
   ],
   "source": [
    "print(sym)"
   ]
  },
  {
   "cell_type": "code",
   "execution_count": 33,
   "id": "f0a584c7",
   "metadata": {},
   "outputs": [
    {
     "name": "stdout",
     "output_type": "stream",
     "text": [
      "AAPL\n",
      "CAT\n",
      "KO\n",
      "MRK\n",
      "AXP\n",
      "JNJ\n",
      "MMM\n",
      "IBM\n",
      "MSFT\n",
      "CVX\n",
      "CSCO\n",
      "WMT\n",
      "INTC\n",
      "UNH\n",
      "WBA\n",
      "DOW\n",
      "NKE\n",
      "BA\n",
      "AMGN\n",
      "CRM\n",
      "PG\n",
      "V\n",
      "VZ\n",
      "DIS\n",
      "HD\n",
      "HON\n",
      "TRV\n",
      "MCD\n",
      "JPM\n",
      "GS\n"
     ]
    }
   ],
   "source": [
    "for symbol in sym:\n",
    " try:\n",
    "     print(symbol)\n",
    "    \n",
    " except Exception as e:\n",
    "     print('Error')\n"
   ]
  }
 ],
 "metadata": {
  "kernelspec": {
   "display_name": "PythonData",
   "language": "python",
   "name": "pythondata"
  },
  "language_info": {
   "codemirror_mode": {
    "name": "ipython",
    "version": 3
   },
   "file_extension": ".py",
   "mimetype": "text/x-python",
   "name": "python",
   "nbconvert_exporter": "python",
   "pygments_lexer": "ipython3",
   "version": "3.9.7"
  }
 },
 "nbformat": 4,
 "nbformat_minor": 5
}
